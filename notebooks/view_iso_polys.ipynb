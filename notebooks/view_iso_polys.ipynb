{
 "cells": [
  {
   "cell_type": "code",
   "execution_count": 1,
   "metadata": {},
   "outputs": [],
   "source": [
    "import shapely\n",
    "import numpy as np\n",
    "import matplotlib.pyplot as plt\n",
    "from osgeo import ogr\n",
    "import pointCollection as pc\n",
    "import pyproj\n",
    "import h5py\n"
   ]
  },
  {
   "cell_type": "code",
   "execution_count": 2,
   "metadata": {},
   "outputs": [],
   "source": [
    "%matplotlib widget\n"
   ]
  },
  {
   "cell_type": "code",
   "execution_count": 3,
   "metadata": {},
   "outputs": [],
   "source": [
    "import lxml.etree\n",
    "import numpy as np\n",
    "import shapely.geometry\n",
    "# compile xml parsers for lxml\n",
    "XMLparser = lxml.etree.XMLParser(recover=True, remove_blank_text=True)\n",
    "# PURPOSE: parse xml header file and create shapely polygon\n",
    "def parse_xml_file(xml_file, XMLparser):\n",
    "    # read xml file and create lxml tree for parsing\n",
    "    with open(xml_file, 'r') as fid:\n",
    "        tree = lxml.etree.parse(fid,XMLparser)\n",
    "    root = tree.getroot()\n",
    "    LinearRing = root.findall('.//gml:Polygon/gml:exterior/gml:LinearRing/gml:posList', root.nsmap)\n",
    "    # create a polygon for each linear ring\n",
    "    poly_list = []\n",
    "    for ring in LinearRing:\n",
    "        coords = np.array(ring.text.split(),dtype='f')\n",
    "        lon,lat = (coords[0:-1:2],coords[1::2])\n",
    "        poly_list.append(shapely.geometry.Polygon(np.c_[lon, lat]))\n",
    "    # create shapely polygon\n",
    "    return shapely.geometry.MultiPolygon(poly_list)"
   ]
  },
  {
   "cell_type": "markdown",
   "metadata": {},
   "source": [
    "Here's the polygon in lat/lon.  Looks OK."
   ]
  },
  {
   "cell_type": "code",
   "execution_count": 4,
   "metadata": {},
   "outputs": [
    {
     "data": {
      "application/vnd.jupyter.widget-view+json": {
       "model_id": "e4770048eb36416fba1d8346f236918a",
       "version_major": 2,
       "version_minor": 0
      },
      "text/plain": [
       "Canvas(toolbar=Toolbar(toolitems=[('Home', 'Reset original view', 'home', 'home'), ('Back', 'Back to previous …"
      ]
     },
     "metadata": {},
     "output_type": "display_data"
    }
   ],
   "source": [
    "thefile='/home/besmith4/shared/ATL11_processing/Antarctic_testing/001/ATL11_018510_0307_003_01.h5.iso.xml'\n",
    "P=parse_xml_file(thefile, XMLparser)\n",
    "lonlat=[]\n",
    "plt.figure(); \n",
    "for poly in P:\n",
    "    lonlat+=[np.c_[[[c[1], c[0]] for c in P[0].exterior.coords]]]\n",
    "    plt.plot(lonlat[-1][:,0], lonlat[-1][:,1], marker='x');\n"
   ]
  },
  {
   "cell_type": "markdown",
   "metadata": {},
   "source": [
    "Here's how it looks in EPSG 3031.  If you zoom in on the middle, the long connector looks like it intersects the arc of actual coordinates."
   ]
  },
  {
   "cell_type": "code",
   "execution_count": 5,
   "metadata": {},
   "outputs": [
    {
     "data": {
      "application/vnd.jupyter.widget-view+json": {
       "model_id": "8491d964b4814aacbcab2a1b6b90938e",
       "version_major": 2,
       "version_minor": 0
      },
      "text/plain": [
       "Canvas(toolbar=Toolbar(toolitems=[('Home', 'Reset original view', 'home', 'home'), ('Back', 'Back to previous …"
      ]
     },
     "metadata": {},
     "output_type": "display_data"
    },
    {
     "data": {
      "text/plain": [
       "[<matplotlib.lines.Line2D at 0x7f1841793a10>]"
      ]
     },
     "execution_count": 5,
     "metadata": {},
     "output_type": "execute_result"
    }
   ],
   "source": [
    "xy=pyproj.Transformer.from_crs(4326, 3031).transform(lonlat[0][:,1], lonlat[0][:,0])\n",
    "plt.figure(); plt.plot(xy[0], xy[1],marker='x')"
   ]
  },
  {
   "cell_type": "markdown",
   "metadata": {},
   "source": [
    "Here's that zoom:"
   ]
  },
  {
   "cell_type": "code",
   "execution_count": 6,
   "metadata": {},
   "outputs": [
    {
     "data": {
      "application/vnd.jupyter.widget-view+json": {
       "model_id": "c5d98387044a4096b5aa55de84133dd8",
       "version_major": 2,
       "version_minor": 0
      },
      "text/plain": [
       "Canvas(toolbar=Toolbar(toolitems=[('Home', 'Reset original view', 'home', 'home'), ('Back', 'Back to previous …"
      ]
     },
     "metadata": {},
     "output_type": "display_data"
    },
    {
     "data": {
      "text/plain": [
       "[<matplotlib.lines.Line2D at 0x7f18417119d0>]"
      ]
     },
     "execution_count": 6,
     "metadata": {},
     "output_type": "execute_result"
    }
   ],
   "source": [
    "plt.figure(); plt.plot(xy[0], xy[1],marker='x')"
   ]
  },
  {
   "cell_type": "markdown",
   "metadata": {},
   "source": [
    "My way forward is to pull the coordinates from the ATL11 into shapely:"
   ]
  },
  {
   "cell_type": "code",
   "execution_count": 7,
   "metadata": {},
   "outputs": [],
   "source": [
    "\n",
    "lonlat_11=[]\n",
    "with h5py.File(thefile.replace('.h5.iso.xml','.h5'),'r') as h5f:\n",
    "    for pair in ['pt1', 'pt2', 'pt3']:\n",
    "        try:\n",
    "            lonlat_11 += [np.c_[h5f[pair+'/longitude'], h5f[pair+'/latitude']]]\n",
    "        except Exception as e:\n",
    "            print(e)\n",
    "xy_11=[]\n",
    "xformer=pyproj.Transformer.from_crs(4326, 3031)\n",
    "for ll in lonlat_11:\n",
    "    xy_11 += [np.c_[xformer.transform(ll[:,1], ll[:,0])]]\n"
   ]
  },
  {
   "cell_type": "markdown",
   "metadata": {},
   "source": [
    "Make the xy coordinates of the pair tracks into a shapely collection of lines:"
   ]
  },
  {
   "cell_type": "code",
   "execution_count": 12,
   "metadata": {},
   "outputs": [],
   "source": [
    "lines=[]\n",
    "for xx in xy_11:\n",
    "    lines += [shapely.geometry.LineString(xx)]"
   ]
  },
  {
   "cell_type": "markdown",
   "metadata": {},
   "source": [
    "Simplify the lines, and buffer them to a resolution of 3 km.  This gives us a single polygon with (in this case) 75 points"
   ]
  },
  {
   "cell_type": "code",
   "execution_count": 13,
   "metadata": {},
   "outputs": [
    {
     "data": {
      "text/plain": [
       "75"
      ]
     },
     "execution_count": 13,
     "metadata": {},
     "output_type": "execute_result"
    }
   ],
   "source": [
    "line_simp=[]\n",
    "for line in lines:\n",
    "    line_simp += [line.simplify(tolerance=100)]\n",
    "all_lines=shapely.geometry.MultiLineString(line_simp)\n",
    "common_buffer=all_lines.buffer(3000, 4)\n",
    "len(common_buffer.exterior.coords.xy[0])"
   ]
  },
  {
   "cell_type": "markdown",
   "metadata": {},
   "source": [
    "We can simplify the polygon further to take out some of the scallops on the ends:"
   ]
  },
  {
   "cell_type": "code",
   "execution_count": 14,
   "metadata": {},
   "outputs": [
    {
     "data": {
      "text/plain": [
       "25"
      ]
     },
     "execution_count": 14,
     "metadata": {},
     "output_type": "execute_result"
    }
   ],
   "source": [
    "common_buffer=common_buffer.simplify(tolerance=500)\n",
    "len(common_buffer.exterior.coords.xy[0])"
   ]
  },
  {
   "cell_type": "markdown",
   "metadata": {},
   "source": [
    "Here's the final result:"
   ]
  },
  {
   "cell_type": "code",
   "execution_count": 15,
   "metadata": {},
   "outputs": [
    {
     "data": {
      "application/vnd.jupyter.widget-view+json": {
       "model_id": "72ae330bd62a4aec94a1897135f251a6",
       "version_major": 2,
       "version_minor": 0
      },
      "text/plain": [
       "Canvas(toolbar=Toolbar(toolitems=[('Home', 'Reset original view', 'home', 'home'), ('Back', 'Back to previous …"
      ]
     },
     "metadata": {},
     "output_type": "display_data"
    },
    {
     "data": {
      "text/plain": [
       "(904486.6757418079,\n",
       " 2060457.9724727776,\n",
       " -1978324.3909951053,\n",
       " -649617.1384369332)"
      ]
     },
     "execution_count": 15,
     "metadata": {},
     "output_type": "execute_result"
    }
   ],
   "source": [
    "plt.figure(); \n",
    "for xy in xy_11:\n",
    "    plt.plot(xy[:,0], xy[:,1],'k.')\n",
    "for line in all_lines:\n",
    "    plt.plot(line.xy[0], line.xy[1], 'r', marker='x')\n",
    "plt.plot(common_buffer.exterior.coords.xy[0], common_buffer.exterior.coords.xy[1],'g',marker='x')\n",
    "plt.axis('equal')"
   ]
  },
  {
   "cell_type": "markdown",
   "metadata": {},
   "source": [
    "And here's a zoom in on the bottom end:"
   ]
  },
  {
   "cell_type": "code",
   "execution_count": 16,
   "metadata": {},
   "outputs": [
    {
     "data": {
      "application/vnd.jupyter.widget-view+json": {
       "model_id": "634b17cf59144984bbac46216798664d",
       "version_major": 2,
       "version_minor": 0
      },
      "text/plain": [
       "Canvas(toolbar=Toolbar(toolitems=[('Home', 'Reset original view', 'home', 'home'), ('Back', 'Back to previous …"
      ]
     },
     "metadata": {},
     "output_type": "display_data"
    },
    {
     "data": {
      "text/plain": [
       "(904486.6757418079,\n",
       " 2060457.9724727776,\n",
       " -1978324.3909951053,\n",
       " -649617.1384369332)"
      ]
     },
     "execution_count": 16,
     "metadata": {},
     "output_type": "execute_result"
    }
   ],
   "source": [
    "plt.figure(); \n",
    "for xy in xy_11:\n",
    "    plt.plot(xy[:,0], xy[:,1],'k.')\n",
    "for line in all_lines:\n",
    "    plt.plot(line.xy[0], line.xy[1], 'r', marker='x')\n",
    "plt.plot(common_buffer.exterior.coords.xy[0], common_buffer.exterior.coords.xy[1],'g',marker='x')\n",
    "plt.axis('equal')\n"
   ]
  },
  {
   "cell_type": "code",
   "execution_count": null,
   "metadata": {},
   "outputs": [],
   "source": []
  }
 ],
 "metadata": {
  "kernelspec": {
   "display_name": "IS2",
   "language": "python",
   "name": "is2"
  },
  "language_info": {
   "codemirror_mode": {
    "name": "ipython",
    "version": 3
   },
   "file_extension": ".py",
   "mimetype": "text/x-python",
   "name": "python",
   "nbconvert_exporter": "python",
   "pygments_lexer": "ipython3",
   "version": "3.7.8"
  }
 },
 "nbformat": 4,
 "nbformat_minor": 4
}
